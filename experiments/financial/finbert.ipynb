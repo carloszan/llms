{
 "cells": [
  {
   "cell_type": "code",
   "execution_count": 1,
   "metadata": {},
   "outputs": [],
   "source": [
    "from transformers import AutoModelForSequenceClassification, AutoTokenizer\n",
    "import torch\n",
    "\n",
    "base_model = \"ProsusAI/finbert\"\n",
    "\n",
    "tokenizer = AutoTokenizer.from_pretrained(base_model)\n",
    "model = AutoModelForSequenceClassification.from_pretrained(base_model, load_in_8bit=True, torch_dtype=torch.float16)\n",
    "\n",
    "model = model.eval()"
   ]
  },
  {
   "cell_type": "code",
   "execution_count": 2,
   "metadata": {},
   "outputs": [
    {
     "data": {
      "text/plain": [
       "tensor(1)"
      ]
     },
     "execution_count": 2,
     "metadata": {},
     "output_type": "execute_result"
    }
   ],
   "source": [
    "tokens = tokenizer([\"Fuck this economy. I hate aig and their non loan given asses\"], return_tensors='pt',\n",
    "                           padding=True)\n",
    "output = model(**tokens)\n",
    "\n",
    "output = torch.nn.functional.softmax(output.logits.float(), dim=-1)\n",
    "output.argmax()"
   ]
  },
  {
   "cell_type": "code",
   "execution_count": 3,
   "metadata": {},
   "outputs": [
    {
     "name": "stdout",
     "output_type": "stream",
     "text": [
      "\n",
      "\n",
      "Prompt example:\n",
      "@gakrum nice chart shows distinctive down channel not a dip.. where do you see the bottom? $SPY ..$150? ..$130?\n",
      "\n",
      "\n",
      "Total len: 150. Batchsize: 8. Total steps: 19\n"
     ]
    },
    {
     "name": "stderr",
     "output_type": "stream",
     "text": [
      "100%|██████████| 19/19 [00:01<00:00, 18.17it/s]"
     ]
    },
    {
     "name": "stdout",
     "output_type": "stream",
     "text": [
      "Acc: 0.4066666666666667. F1 macro: 0.3735183751740043. F1 micro: 0.4066666666666667. F1 weighted (BloombergGPT): 0.3735183751740043. \n"
     ]
    },
    {
     "name": "stderr",
     "output_type": "stream",
     "text": [
      "\n"
     ]
    },
    {
     "data": {
      "text/html": [
       "<div>\n",
       "<style scoped>\n",
       "    .dataframe tbody tr th:only-of-type {\n",
       "        vertical-align: middle;\n",
       "    }\n",
       "\n",
       "    .dataframe tbody tr th {\n",
       "        vertical-align: top;\n",
       "    }\n",
       "\n",
       "    .dataframe thead th {\n",
       "        text-align: right;\n",
       "    }\n",
       "</style>\n",
       "<table border=\"1\" class=\"dataframe\">\n",
       "  <thead>\n",
       "    <tr style=\"text-align: right;\">\n",
       "      <th></th>\n",
       "      <th>input</th>\n",
       "      <th>target</th>\n",
       "      <th>out_text</th>\n",
       "      <th>new_out</th>\n",
       "    </tr>\n",
       "  </thead>\n",
       "  <tbody>\n",
       "    <tr>\n",
       "      <th>0</th>\n",
       "      <td>$HCP Come to the party and buy this -gonna giv...</td>\n",
       "      <td>0</td>\n",
       "      <td>[0.72789717, 0.009888096, 0.26221472]</td>\n",
       "      <td>0</td>\n",
       "    </tr>\n",
       "    <tr>\n",
       "      <th>1</th>\n",
       "      <td>@gakrum nice chart shows distinctive down chan...</td>\n",
       "      <td>2</td>\n",
       "      <td>[0.41241357, 0.09974262, 0.48784387]</td>\n",
       "      <td>1</td>\n",
       "    </tr>\n",
       "    <tr>\n",
       "      <th>2</th>\n",
       "      <td>Japan's Asahi to submit bid next week for SABM...</td>\n",
       "      <td>0</td>\n",
       "      <td>[0.26295966, 0.14501196, 0.5920284]</td>\n",
       "      <td>1</td>\n",
       "    </tr>\n",
       "    <tr>\n",
       "      <th>3</th>\n",
       "      <td>Tesla Motors recalls 2,700 Model X SUVs $TSLA ...</td>\n",
       "      <td>2</td>\n",
       "      <td>[0.42264017, 0.119706936, 0.4576529]</td>\n",
       "      <td>1</td>\n",
       "    </tr>\n",
       "    <tr>\n",
       "      <th>4</th>\n",
       "      <td>CRH's concrete bid for Holcim Lafarge assets</td>\n",
       "      <td>0</td>\n",
       "      <td>[0.24879104, 0.091215596, 0.65999335]</td>\n",
       "      <td>1</td>\n",
       "    </tr>\n",
       "    <tr>\n",
       "      <th>...</th>\n",
       "      <td>...</td>\n",
       "      <td>...</td>\n",
       "      <td>...</td>\n",
       "      <td>...</td>\n",
       "    </tr>\n",
       "    <tr>\n",
       "      <th>145</th>\n",
       "      <td>Intertek swings to ÃÂ£347 mln loss on oil's s...</td>\n",
       "      <td>2</td>\n",
       "      <td>[0.12549062, 0.228127, 0.64638233]</td>\n",
       "      <td>1</td>\n",
       "    </tr>\n",
       "    <tr>\n",
       "      <th>146</th>\n",
       "      <td>RT @jan $ARNA Don't think buyout rumor strong ...</td>\n",
       "      <td>1</td>\n",
       "      <td>[0.21853669, 0.27272964, 0.50873363]</td>\n",
       "      <td>1</td>\n",
       "    </tr>\n",
       "    <tr>\n",
       "      <th>147</th>\n",
       "      <td>Barclays appoints JPMorgan's Paul Compton as n...</td>\n",
       "      <td>1</td>\n",
       "      <td>[0.23756759, 0.4300743, 0.33235818]</td>\n",
       "      <td>2</td>\n",
       "    </tr>\n",
       "    <tr>\n",
       "      <th>148</th>\n",
       "      <td>$AAPL Now I'm glad I got stopped out of my $11...</td>\n",
       "      <td>1</td>\n",
       "      <td>[0.11438672, 0.15592879, 0.72968453]</td>\n",
       "      <td>1</td>\n",
       "    </tr>\n",
       "    <tr>\n",
       "      <th>149</th>\n",
       "      <td>Tullow Oil Suspends Dividend Amid Oil Price Fall</td>\n",
       "      <td>2</td>\n",
       "      <td>[0.21567419, 0.38335606, 0.4009698]</td>\n",
       "      <td>1</td>\n",
       "    </tr>\n",
       "  </tbody>\n",
       "</table>\n",
       "<p>150 rows × 4 columns</p>\n",
       "</div>"
      ],
      "text/plain": [
       "                                                 input  target  \\\n",
       "0    $HCP Come to the party and buy this -gonna giv...       0   \n",
       "1    @gakrum nice chart shows distinctive down chan...       2   \n",
       "2    Japan's Asahi to submit bid next week for SABM...       0   \n",
       "3    Tesla Motors recalls 2,700 Model X SUVs $TSLA ...       2   \n",
       "4         CRH's concrete bid for Holcim Lafarge assets       0   \n",
       "..                                                 ...     ...   \n",
       "145  Intertek swings to ÃÂ£347 mln loss on oil's s...       2   \n",
       "146  RT @jan $ARNA Don't think buyout rumor strong ...       1   \n",
       "147  Barclays appoints JPMorgan's Paul Compton as n...       1   \n",
       "148  $AAPL Now I'm glad I got stopped out of my $11...       1   \n",
       "149   Tullow Oil Suspends Dividend Amid Oil Price Fall       2   \n",
       "\n",
       "                                  out_text  new_out  \n",
       "0    [0.72789717, 0.009888096, 0.26221472]        0  \n",
       "1     [0.41241357, 0.09974262, 0.48784387]        1  \n",
       "2      [0.26295966, 0.14501196, 0.5920284]        1  \n",
       "3     [0.42264017, 0.119706936, 0.4576529]        1  \n",
       "4    [0.24879104, 0.091215596, 0.65999335]        1  \n",
       "..                                     ...      ...  \n",
       "145     [0.12549062, 0.228127, 0.64638233]        1  \n",
       "146   [0.21853669, 0.27272964, 0.50873363]        1  \n",
       "147    [0.23756759, 0.4300743, 0.33235818]        2  \n",
       "148   [0.11438672, 0.15592879, 0.72968453]        1  \n",
       "149    [0.21567419, 0.38335606, 0.4009698]        1  \n",
       "\n",
       "[150 rows x 4 columns]"
      ]
     },
     "execution_count": 3,
     "metadata": {},
     "output_type": "execute_result"
    }
   ],
   "source": [
    "from sklearn.metrics import accuracy_score, f1_score\n",
    "from datasets import load_dataset\n",
    "from tqdm import tqdm\n",
    "import torch\n",
    "import numpy as np\n",
    "\n",
    "def map_output(x):\n",
    "    dic = {0:0, 1:2, 2:1}\n",
    "    return dic[x]\n",
    "\n",
    "def test_fiqa(model, tokenizer, batch_size=8):\n",
    "    dataset = load_dataset('pauri32/fiqa-2018')\n",
    "    dataset = dataset[\"test\"]\n",
    "    dataset = dataset.to_pandas()\n",
    "\n",
    "    dataset[\"target\"] = dataset['label']\n",
    "\n",
    "    dataset = dataset[['sentence', 'target']]\n",
    "    dataset.columns = ['input', 'target']\n",
    "\n",
    "    # print example\n",
    "    print(f\"\\n\\nPrompt example:\\n{dataset['input'][1]}\\n\\n\")\n",
    "\n",
    "    context = dataset['input'].tolist()\n",
    "    total_steps = dataset.shape[0]//batch_size + 1\n",
    "    print(\n",
    "        f\"Total len: {len(context)}. Batchsize: {batch_size}. Total steps: {total_steps}\")\n",
    "\n",
    "    out_text = []\n",
    "\n",
    "    for i in tqdm(range(total_steps)):\n",
    "        tmp_context = context[i * batch_size:(i+1) * batch_size]\n",
    "\n",
    "        tokenizer.pad_token = \"[PAD]\"\n",
    "\n",
    "        tokens = tokenizer(tmp_context, return_tensors='pt', padding=True)\n",
    "\n",
    "        output = model(**tokens)\n",
    "        output = torch.nn.functional.softmax(output.logits.float(), dim=-1)\n",
    "        out_text.append(output.detach().numpy())\n",
    "        torch.cuda.empty_cache()\n",
    "\n",
    "    out_text = [item for sublist in out_text for item in sublist]\n",
    "    dataset[\"out_text\"] = out_text\n",
    "    dataset[\"new_out\"] = dataset[\"out_text\"].apply(np.argmax).apply(map_output)\n",
    "\n",
    "    acc = accuracy_score(dataset[\"target\"], dataset[\"new_out\"])\n",
    "    f1_macro = f1_score(dataset[\"target\"], dataset[\"new_out\"], average=\"macro\")\n",
    "    f1_micro = f1_score(dataset[\"target\"], dataset[\"new_out\"], average=\"micro\")\n",
    "    f1_weighted = f1_score(\n",
    "        dataset[\"target\"], dataset[\"new_out\"], average=\"weighted\")\n",
    "\n",
    "    print(f\"Acc: {acc}. F1 macro: {f1_macro}. F1 micro: {f1_micro}. F1 weighted (BloombergGPT): {f1_weighted}. \")\n",
    "\n",
    "    return dataset\n",
    "\n",
    "\n",
    "dataset = test_fiqa(model, tokenizer)\n",
    "dataset"
   ]
  },
  {
   "cell_type": "code",
   "execution_count": 5,
   "metadata": {},
   "outputs": [],
   "source": [
    "path = '../../results/financial/finbert.csv'"
   ]
  },
  {
   "cell_type": "code",
   "execution_count": 6,
   "metadata": {},
   "outputs": [],
   "source": [
    "dataset.to_csv(path)"
   ]
  },
  {
   "cell_type": "code",
   "execution_count": 7,
   "metadata": {},
   "outputs": [
    {
     "name": "stdout",
     "output_type": "stream",
     "text": [
      "Precision: 0.44, Recall: 0.407, F1: 0.374, Accuracy: 0.407\n"
     ]
    }
   ],
   "source": [
    "import pandas as pd\n",
    "\n",
    "df = pd.read_csv(path, index_col=0)\n",
    "\n",
    "true, pred = df[\"target\"], df[\"new_out\"]\n",
    "\n",
    "\n",
    "import sys\n",
    "sys.path.append('../../')\n",
    "from metrics import metrics\n",
    "\n",
    "metrics(true, pred)"
   ]
  }
 ],
 "metadata": {
  "kernelspec": {
   "display_name": ".env",
   "language": "python",
   "name": "python3"
  },
  "language_info": {
   "codemirror_mode": {
    "name": "ipython",
    "version": 3
   },
   "file_extension": ".py",
   "mimetype": "text/x-python",
   "name": "python",
   "nbconvert_exporter": "python",
   "pygments_lexer": "ipython3",
   "version": "3.11.6"
  }
 },
 "nbformat": 4,
 "nbformat_minor": 2
}
