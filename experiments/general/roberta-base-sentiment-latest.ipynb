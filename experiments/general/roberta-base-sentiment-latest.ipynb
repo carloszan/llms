{
 "cells": [
  {
   "cell_type": "code",
   "execution_count": 1,
   "metadata": {},
   "outputs": [
    {
     "data": {
      "application/vnd.jupyter.widget-view+json": {
       "model_id": "c22bd7024a6c414cb0b647b90f836230",
       "version_major": 2,
       "version_minor": 0
      },
      "text/plain": [
       "Downloading config.json:   0%|          | 0.00/929 [00:00<?, ?B/s]"
      ]
     },
     "metadata": {},
     "output_type": "display_data"
    },
    {
     "data": {
      "application/vnd.jupyter.widget-view+json": {
       "model_id": "628736cc7ff04869be3b327fc9f4e25e",
       "version_major": 2,
       "version_minor": 0
      },
      "text/plain": [
       "Downloading vocab.json:   0%|          | 0.00/899k [00:00<?, ?B/s]"
      ]
     },
     "metadata": {},
     "output_type": "display_data"
    },
    {
     "data": {
      "application/vnd.jupyter.widget-view+json": {
       "model_id": "93564e3cd85d42f885ccb01641db9de1",
       "version_major": 2,
       "version_minor": 0
      },
      "text/plain": [
       "Downloading merges.txt:   0%|          | 0.00/456k [00:00<?, ?B/s]"
      ]
     },
     "metadata": {},
     "output_type": "display_data"
    },
    {
     "data": {
      "application/vnd.jupyter.widget-view+json": {
       "model_id": "61fbde1952a44b86b7c16355527c9618",
       "version_major": 2,
       "version_minor": 0
      },
      "text/plain": [
       "Downloading (…)cial_tokens_map.json:   0%|          | 0.00/239 [00:00<?, ?B/s]"
      ]
     },
     "metadata": {},
     "output_type": "display_data"
    },
    {
     "data": {
      "application/vnd.jupyter.widget-view+json": {
       "model_id": "7b226f171a16407985c1ec1c69d16ff2",
       "version_major": 2,
       "version_minor": 0
      },
      "text/plain": [
       "Downloading pytorch_model.bin:   0%|          | 0.00/501M [00:00<?, ?B/s]"
      ]
     },
     "metadata": {},
     "output_type": "display_data"
    },
    {
     "name": "stderr",
     "output_type": "stream",
     "text": [
      "Some weights of the model checkpoint at cardiffnlp/twitter-roberta-base-sentiment-latest were not used when initializing RobertaForSequenceClassification: ['roberta.pooler.dense.weight', 'roberta.pooler.dense.bias']\n",
      "- This IS expected if you are initializing RobertaForSequenceClassification from the checkpoint of a model trained on another task or with another architecture (e.g. initializing a BertForSequenceClassification model from a BertForPreTraining model).\n",
      "- This IS NOT expected if you are initializing RobertaForSequenceClassification from the checkpoint of a model that you expect to be exactly identical (initializing a BertForSequenceClassification model from a BertForSequenceClassification model).\n"
     ]
    }
   ],
   "source": [
    "from transformers import AutoModelForSequenceClassification, AutoTokenizer\n",
    "import torch\n",
    "\n",
    "base_model = \"cardiffnlp/twitter-roberta-base-sentiment-latest\"\n",
    "\n",
    "tokenizer = AutoTokenizer.from_pretrained(base_model)\n",
    "\n",
    "tokenizer = AutoTokenizer.from_pretrained(base_model, device_map=\"auto\")\n",
    "model = AutoModelForSequenceClassification.from_pretrained(base_model, load_in_8bit=True, torch_dtype=torch.float16)\n",
    "\n",
    "model = model.eval()"
   ]
  },
  {
   "cell_type": "code",
   "execution_count": 3,
   "metadata": {},
   "outputs": [
    {
     "data": {
      "text/plain": [
       "tensor(2)"
      ]
     },
     "execution_count": 3,
     "metadata": {},
     "output_type": "execute_result"
    }
   ],
   "source": [
    "tokens = tokenizer([\"Love it\"], return_tensors='pt',\n",
    "                           padding=True)\n",
    "output = model(**tokens)\n",
    "\n",
    "output = torch.nn.functional.softmax(output.logits.float(), dim=-1)\n",
    "output.argmax()"
   ]
  },
  {
   "cell_type": "code",
   "execution_count": 4,
   "metadata": {},
   "outputs": [
    {
     "name": "stdout",
     "output_type": "stream",
     "text": [
      "\n",
      "\n",
      "Prompt example:\n",
      "Reading my kindle2...  Love it... Lee childs is good read.\n",
      "\n",
      "\n",
      "Total len: 150. Batchsize: 8. Total steps: 19\n"
     ]
    },
    {
     "name": "stderr",
     "output_type": "stream",
     "text": [
      "100%|██████████| 19/19 [00:00<00:00, 20.82it/s]"
     ]
    },
    {
     "name": "stdout",
     "output_type": "stream",
     "text": [
      "Acc: 0.96. F1 macro: 0.6421854008060904. F1 micro: 0.96. F1 weighted (BloombergGPT): 0.9632781012091357. \n"
     ]
    },
    {
     "name": "stderr",
     "output_type": "stream",
     "text": [
      "\n"
     ]
    },
    {
     "data": {
      "text/html": [
       "<div>\n",
       "<style scoped>\n",
       "    .dataframe tbody tr th:only-of-type {\n",
       "        vertical-align: middle;\n",
       "    }\n",
       "\n",
       "    .dataframe tbody tr th {\n",
       "        vertical-align: top;\n",
       "    }\n",
       "\n",
       "    .dataframe thead th {\n",
       "        text-align: right;\n",
       "    }\n",
       "</style>\n",
       "<table border=\"1\" class=\"dataframe\">\n",
       "  <thead>\n",
       "    <tr style=\"text-align: right;\">\n",
       "      <th></th>\n",
       "      <th>text</th>\n",
       "      <th>target</th>\n",
       "      <th>out_text</th>\n",
       "      <th>new_out</th>\n",
       "    </tr>\n",
       "  </thead>\n",
       "  <tbody>\n",
       "    <tr>\n",
       "      <th>6</th>\n",
       "      <td>Fuck this economy. I hate aig and their non lo...</td>\n",
       "      <td>0</td>\n",
       "      <td>[0.9568466, 0.035315666, 0.00783778]</td>\n",
       "      <td>0</td>\n",
       "    </tr>\n",
       "    <tr>\n",
       "      <th>11</th>\n",
       "      <td>@Karoli I firmly believe that Obama/Pelosi hav...</td>\n",
       "      <td>0</td>\n",
       "      <td>[0.79764926, 0.10938268, 0.09296796]</td>\n",
       "      <td>0</td>\n",
       "    </tr>\n",
       "    <tr>\n",
       "      <th>14</th>\n",
       "      <td>dear nike, stop with the flywire. that shit is...</td>\n",
       "      <td>0</td>\n",
       "      <td>[0.80429417, 0.11192144, 0.083784364]</td>\n",
       "      <td>0</td>\n",
       "    </tr>\n",
       "    <tr>\n",
       "      <th>16</th>\n",
       "      <td>I was talking to this guy last night and he wa...</td>\n",
       "      <td>0</td>\n",
       "      <td>[0.82691664, 0.10229493, 0.070788465]</td>\n",
       "      <td>0</td>\n",
       "    </tr>\n",
       "    <tr>\n",
       "      <th>18</th>\n",
       "      <td>@ludajuice Lebron is a Beast, but I'm still ch...</td>\n",
       "      <td>0</td>\n",
       "      <td>[0.80426484, 0.10715792, 0.08857715]</td>\n",
       "      <td>0</td>\n",
       "    </tr>\n",
       "    <tr>\n",
       "      <th>...</th>\n",
       "      <td>...</td>\n",
       "      <td>...</td>\n",
       "      <td>...</td>\n",
       "      <td>...</td>\n",
       "    </tr>\n",
       "    <tr>\n",
       "      <th>196</th>\n",
       "      <td>@matthewcyan I finally got around to using jqu...</td>\n",
       "      <td>4</td>\n",
       "      <td>[0.020957025, 0.12206564, 0.8569773]</td>\n",
       "      <td>4</td>\n",
       "    </tr>\n",
       "    <tr>\n",
       "      <th>202</th>\n",
       "      <td>@PDubyaD right!!! LOL we'll get there!! I have...</td>\n",
       "      <td>4</td>\n",
       "      <td>[0.021675743, 0.12757644, 0.85074776]</td>\n",
       "      <td>4</td>\n",
       "    </tr>\n",
       "    <tr>\n",
       "      <th>203</th>\n",
       "      <td>RT @blknprecious1: RT GREAT @dbroos \"Someone's...</td>\n",
       "      <td>4</td>\n",
       "      <td>[0.028540956, 0.17323063, 0.79822844]</td>\n",
       "      <td>4</td>\n",
       "    </tr>\n",
       "    <tr>\n",
       "      <th>205</th>\n",
       "      <td>Warren Buffet became (for a time) the richest ...</td>\n",
       "      <td>4</td>\n",
       "      <td>[0.019736337, 0.11778954, 0.86247414]</td>\n",
       "      <td>4</td>\n",
       "    </tr>\n",
       "    <tr>\n",
       "      <th>206</th>\n",
       "      <td>According to the create a school, Notre Dame w...</td>\n",
       "      <td>4</td>\n",
       "      <td>[0.008637311, 0.060809836, 0.93055284]</td>\n",
       "      <td>4</td>\n",
       "    </tr>\n",
       "  </tbody>\n",
       "</table>\n",
       "<p>150 rows × 4 columns</p>\n",
       "</div>"
      ],
      "text/plain": [
       "                                                  text  target  \\\n",
       "6    Fuck this economy. I hate aig and their non lo...       0   \n",
       "11   @Karoli I firmly believe that Obama/Pelosi hav...       0   \n",
       "14   dear nike, stop with the flywire. that shit is...       0   \n",
       "16   I was talking to this guy last night and he wa...       0   \n",
       "18   @ludajuice Lebron is a Beast, but I'm still ch...       0   \n",
       "..                                                 ...     ...   \n",
       "196  @matthewcyan I finally got around to using jqu...       4   \n",
       "202  @PDubyaD right!!! LOL we'll get there!! I have...       4   \n",
       "203  RT @blknprecious1: RT GREAT @dbroos \"Someone's...       4   \n",
       "205  Warren Buffet became (for a time) the richest ...       4   \n",
       "206  According to the create a school, Notre Dame w...       4   \n",
       "\n",
       "                                   out_text  new_out  \n",
       "6      [0.9568466, 0.035315666, 0.00783778]        0  \n",
       "11     [0.79764926, 0.10938268, 0.09296796]        0  \n",
       "14    [0.80429417, 0.11192144, 0.083784364]        0  \n",
       "16    [0.82691664, 0.10229493, 0.070788465]        0  \n",
       "18     [0.80426484, 0.10715792, 0.08857715]        0  \n",
       "..                                      ...      ...  \n",
       "196    [0.020957025, 0.12206564, 0.8569773]        4  \n",
       "202   [0.021675743, 0.12757644, 0.85074776]        4  \n",
       "203   [0.028540956, 0.17323063, 0.79822844]        4  \n",
       "205   [0.019736337, 0.11778954, 0.86247414]        4  \n",
       "206  [0.008637311, 0.060809836, 0.93055284]        4  \n",
       "\n",
       "[150 rows x 4 columns]"
      ]
     },
     "execution_count": 4,
     "metadata": {},
     "output_type": "execute_result"
    }
   ],
   "source": [
    "from sklearn.metrics import accuracy_score, f1_score\n",
    "from datasets import load_dataset\n",
    "from tqdm import tqdm\n",
    "import torch\n",
    "import numpy as np\n",
    "import pandas as pd\n",
    "\n",
    "def map_output(arg):\n",
    "  dic = {0: 0, 1: 2, 2:4}\n",
    "  return dic[arg]\n",
    "\n",
    "\n",
    "def test_sentiment140(model, tokenizer, batch_size=8):\n",
    "    dataset = load_dataset('sentiment140')\n",
    "    dataset = dataset[\"test\"]\n",
    "    dataset = dataset.to_pandas()\n",
    "\n",
    "    negative_df = dataset.query(\"sentiment == 0\")[:75]\n",
    "    positive_df = dataset.query(\"sentiment == 4\")[:75]\n",
    "\n",
    "    dataset = pd.concat([negative_df, positive_df])\n",
    "\n",
    "    dataset = dataset.rename(columns={\"sentiment\": \"target\"})\n",
    "\n",
    "\n",
    "    dataset = dataset[['text', 'target']]\n",
    "\n",
    "    # print example\n",
    "    print(f\"\\n\\nPrompt example:\\n{dataset['text'][1]}\\n\\n\")\n",
    "\n",
    "    context = dataset['text'].tolist()\n",
    "    total_steps = dataset.shape[0]//batch_size + 1\n",
    "    print(\n",
    "        f\"Total len: {len(context)}. Batchsize: {batch_size}. Total steps: {total_steps}\")\n",
    "\n",
    "    out_text = []\n",
    "\n",
    "    for i in tqdm(range(total_steps)):\n",
    "        tmp_context = context[i * batch_size:(i+1) * batch_size]\n",
    "\n",
    "        tokenizer.pad_token = \"[PAD]\"\n",
    "\n",
    "        tokens = tokenizer(tmp_context, return_tensors='pt',\n",
    "                           padding=True)\n",
    "\n",
    "        output = model(**tokens)\n",
    "        output = torch.nn.functional.softmax(output.logits.float(), dim=-1)\n",
    "        out_text.append(output.detach().numpy())\n",
    "        torch.cuda.empty_cache()\n",
    "\n",
    "    out_text = [item for sublist in out_text for item in sublist]\n",
    "    dataset[\"out_text\"] = out_text\n",
    "    dataset[\"new_out\"] = dataset[\"out_text\"].apply(np.argmax).apply(map_output)\n",
    "\n",
    "    acc = accuracy_score(dataset[\"target\"], dataset[\"new_out\"])\n",
    "    f1_macro = f1_score(dataset[\"target\"], dataset[\"new_out\"], average=\"macro\")\n",
    "    f1_micro = f1_score(dataset[\"target\"], dataset[\"new_out\"], average=\"micro\")\n",
    "    f1_weighted = f1_score(\n",
    "        dataset[\"target\"], dataset[\"new_out\"], average=\"weighted\")\n",
    "\n",
    "    print(f\"Acc: {acc}. F1 macro: {f1_macro}. F1 micro: {f1_micro}. F1 weighted (BloombergGPT): {f1_weighted}. \")\n",
    "\n",
    "    return dataset\n",
    "\n",
    "dataset = test_sentiment140(model, tokenizer)\n",
    "dataset"
   ]
  },
  {
   "cell_type": "code",
   "execution_count": 5,
   "metadata": {},
   "outputs": [],
   "source": [
    "path = '../../results/general/roberta-base-sentiment-latest.csv'"
   ]
  },
  {
   "cell_type": "code",
   "execution_count": 6,
   "metadata": {},
   "outputs": [],
   "source": [
    "dataset.to_csv(path)"
   ]
  },
  {
   "cell_type": "code",
   "execution_count": 7,
   "metadata": {},
   "outputs": [
    {
     "name": "stdout",
     "output_type": "stream",
     "text": [
      "Precision: 0.968, Recall: 0.96, F1: 0.963, Accuracy: 0.96\n"
     ]
    },
    {
     "name": "stderr",
     "output_type": "stream",
     "text": [
      "/home/carlos/Documents/git/llms/.env/lib/python3.11/site-packages/sklearn/metrics/_classification.py:1471: UndefinedMetricWarning: Recall is ill-defined and being set to 0.0 in labels with no true samples. Use `zero_division` parameter to control this behavior.\n",
      "  _warn_prf(average, modifier, msg_start, len(result))\n"
     ]
    }
   ],
   "source": [
    "import pandas as pd\n",
    "\n",
    "df = pd.read_csv(path, index_col=0)\n",
    "\n",
    "true, pred = df[\"target\"], df[\"new_out\"]\n",
    "\n",
    "\n",
    "import sys\n",
    "sys.path.append('../../')\n",
    "from metrics import metrics\n",
    "\n",
    "metrics(true, pred)"
   ]
  }
 ],
 "metadata": {
  "kernelspec": {
   "display_name": ".env",
   "language": "python",
   "name": "python3"
  },
  "language_info": {
   "codemirror_mode": {
    "name": "ipython",
    "version": 3
   },
   "file_extension": ".py",
   "mimetype": "text/x-python",
   "name": "python",
   "nbconvert_exporter": "python",
   "pygments_lexer": "ipython3",
   "version": "3.11.6"
  }
 },
 "nbformat": 4,
 "nbformat_minor": 2
}
