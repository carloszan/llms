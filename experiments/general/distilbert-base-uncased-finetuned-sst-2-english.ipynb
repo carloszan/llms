{
 "cells": [
  {
   "cell_type": "code",
   "execution_count": 1,
   "metadata": {},
   "outputs": [],
   "source": [
    "from transformers import AutoModelForSequenceClassification, AutoTokenizer\n",
    "import torch\n",
    "\n",
    "base_model = \"distilbert-base-uncased-finetuned-sst-2-english\"\n",
    "\n",
    "tokenizer = AutoTokenizer.from_pretrained(base_model)\n",
    "\n",
    "tokenizer = AutoTokenizer.from_pretrained(base_model, device_map=\"auto\")\n",
    "model = AutoModelForSequenceClassification.from_pretrained(base_model, load_in_8bit=True, torch_dtype=torch.float16)\n",
    "\n",
    "model = model.eval()"
   ]
  },
  {
   "cell_type": "code",
   "execution_count": 2,
   "metadata": {},
   "outputs": [
    {
     "data": {
      "text/plain": [
       "tensor(0)"
      ]
     },
     "execution_count": 2,
     "metadata": {},
     "output_type": "execute_result"
    }
   ],
   "source": [
    "tokens = tokenizer([\"Fuck this economy. I hate aig and their non loan given asses\"], return_tensors='pt',\n",
    "                           padding=True)\n",
    "output = model(**tokens)\n",
    "\n",
    "output = torch.nn.functional.softmax(output.logits.float(), dim=-1)\n",
    "output.argmax()"
   ]
  },
  {
   "cell_type": "code",
   "execution_count": 3,
   "metadata": {},
   "outputs": [
    {
     "name": "stdout",
     "output_type": "stream",
     "text": [
      "\n",
      "\n",
      "Prompt example:\n",
      "Reading my kindle2...  Love it... Lee childs is good read.\n",
      "\n",
      "\n",
      "Total len: 150. Batchsize: 8. Total steps: 19\n"
     ]
    },
    {
     "name": "stderr",
     "output_type": "stream",
     "text": [
      "100%|██████████| 19/19 [00:00<00:00, 39.90it/s]"
     ]
    },
    {
     "name": "stdout",
     "output_type": "stream",
     "text": [
      "Acc: 0.8333333333333334. F1 macro: 0.8311647381927874. F1 micro: 0.8333333333333334. F1 weighted (BloombergGPT): 0.8311647381927872. \n"
     ]
    },
    {
     "name": "stderr",
     "output_type": "stream",
     "text": [
      "\n"
     ]
    },
    {
     "data": {
      "text/html": [
       "<div>\n",
       "<style scoped>\n",
       "    .dataframe tbody tr th:only-of-type {\n",
       "        vertical-align: middle;\n",
       "    }\n",
       "\n",
       "    .dataframe tbody tr th {\n",
       "        vertical-align: top;\n",
       "    }\n",
       "\n",
       "    .dataframe thead th {\n",
       "        text-align: right;\n",
       "    }\n",
       "</style>\n",
       "<table border=\"1\" class=\"dataframe\">\n",
       "  <thead>\n",
       "    <tr style=\"text-align: right;\">\n",
       "      <th></th>\n",
       "      <th>text</th>\n",
       "      <th>target</th>\n",
       "      <th>out_text</th>\n",
       "      <th>new_out</th>\n",
       "    </tr>\n",
       "  </thead>\n",
       "  <tbody>\n",
       "    <tr>\n",
       "      <th>6</th>\n",
       "      <td>Fuck this economy. I hate aig and their non lo...</td>\n",
       "      <td>0</td>\n",
       "      <td>[0.9989183, 0.0010817152]</td>\n",
       "      <td>0</td>\n",
       "    </tr>\n",
       "    <tr>\n",
       "      <th>11</th>\n",
       "      <td>@Karoli I firmly believe that Obama/Pelosi hav...</td>\n",
       "      <td>0</td>\n",
       "      <td>[0.94509614, 0.054903854]</td>\n",
       "      <td>0</td>\n",
       "    </tr>\n",
       "    <tr>\n",
       "      <th>14</th>\n",
       "      <td>dear nike, stop with the flywire. that shit is...</td>\n",
       "      <td>0</td>\n",
       "      <td>[0.9997305, 0.00026947915]</td>\n",
       "      <td>0</td>\n",
       "    </tr>\n",
       "    <tr>\n",
       "      <th>16</th>\n",
       "      <td>I was talking to this guy last night and he wa...</td>\n",
       "      <td>0</td>\n",
       "      <td>[0.2018919, 0.7981081]</td>\n",
       "      <td>4</td>\n",
       "    </tr>\n",
       "    <tr>\n",
       "      <th>18</th>\n",
       "      <td>@ludajuice Lebron is a Beast, but I'm still ch...</td>\n",
       "      <td>0</td>\n",
       "      <td>[0.0021157034, 0.99788433]</td>\n",
       "      <td>4</td>\n",
       "    </tr>\n",
       "    <tr>\n",
       "      <th>...</th>\n",
       "      <td>...</td>\n",
       "      <td>...</td>\n",
       "      <td>...</td>\n",
       "      <td>...</td>\n",
       "    </tr>\n",
       "    <tr>\n",
       "      <th>196</th>\n",
       "      <td>@matthewcyan I finally got around to using jqu...</td>\n",
       "      <td>4</td>\n",
       "      <td>[0.9861247, 0.013875309]</td>\n",
       "      <td>0</td>\n",
       "    </tr>\n",
       "    <tr>\n",
       "      <th>202</th>\n",
       "      <td>@PDubyaD right!!! LOL we'll get there!! I have...</td>\n",
       "      <td>4</td>\n",
       "      <td>[0.0015578482, 0.9984421]</td>\n",
       "      <td>4</td>\n",
       "    </tr>\n",
       "    <tr>\n",
       "      <th>203</th>\n",
       "      <td>RT @blknprecious1: RT GREAT @dbroos \"Someone's...</td>\n",
       "      <td>4</td>\n",
       "      <td>[0.9885583, 0.011441684]</td>\n",
       "      <td>0</td>\n",
       "    </tr>\n",
       "    <tr>\n",
       "      <th>205</th>\n",
       "      <td>Warren Buffet became (for a time) the richest ...</td>\n",
       "      <td>4</td>\n",
       "      <td>[0.00080251833, 0.99919754]</td>\n",
       "      <td>4</td>\n",
       "    </tr>\n",
       "    <tr>\n",
       "      <th>206</th>\n",
       "      <td>According to the create a school, Notre Dame w...</td>\n",
       "      <td>4</td>\n",
       "      <td>[0.007815888, 0.9921841]</td>\n",
       "      <td>4</td>\n",
       "    </tr>\n",
       "  </tbody>\n",
       "</table>\n",
       "<p>150 rows × 4 columns</p>\n",
       "</div>"
      ],
      "text/plain": [
       "                                                  text  target  \\\n",
       "6    Fuck this economy. I hate aig and their non lo...       0   \n",
       "11   @Karoli I firmly believe that Obama/Pelosi hav...       0   \n",
       "14   dear nike, stop with the flywire. that shit is...       0   \n",
       "16   I was talking to this guy last night and he wa...       0   \n",
       "18   @ludajuice Lebron is a Beast, but I'm still ch...       0   \n",
       "..                                                 ...     ...   \n",
       "196  @matthewcyan I finally got around to using jqu...       4   \n",
       "202  @PDubyaD right!!! LOL we'll get there!! I have...       4   \n",
       "203  RT @blknprecious1: RT GREAT @dbroos \"Someone's...       4   \n",
       "205  Warren Buffet became (for a time) the richest ...       4   \n",
       "206  According to the create a school, Notre Dame w...       4   \n",
       "\n",
       "                        out_text  new_out  \n",
       "6      [0.9989183, 0.0010817152]        0  \n",
       "11     [0.94509614, 0.054903854]        0  \n",
       "14    [0.9997305, 0.00026947915]        0  \n",
       "16        [0.2018919, 0.7981081]        4  \n",
       "18    [0.0021157034, 0.99788433]        4  \n",
       "..                           ...      ...  \n",
       "196     [0.9861247, 0.013875309]        0  \n",
       "202    [0.0015578482, 0.9984421]        4  \n",
       "203     [0.9885583, 0.011441684]        0  \n",
       "205  [0.00080251833, 0.99919754]        4  \n",
       "206     [0.007815888, 0.9921841]        4  \n",
       "\n",
       "[150 rows x 4 columns]"
      ]
     },
     "execution_count": 3,
     "metadata": {},
     "output_type": "execute_result"
    }
   ],
   "source": [
    "from sklearn.metrics import accuracy_score, f1_score\n",
    "from datasets import load_dataset\n",
    "from tqdm import tqdm\n",
    "import torch\n",
    "import numpy as np\n",
    "import pandas as pd\n",
    "\n",
    "def map_output(arg):\n",
    "  dic = {0: 0, 1: 4}\n",
    "  return dic[arg]\n",
    "\n",
    "\n",
    "def test_sentiment140(model, tokenizer, batch_size=8):\n",
    "    dataset = load_dataset('sentiment140')\n",
    "    dataset = dataset[\"test\"]\n",
    "    dataset = dataset.to_pandas()\n",
    "\n",
    "    negative_df = dataset.query(\"sentiment == 0\")[:75]\n",
    "    positive_df = dataset.query(\"sentiment == 4\")[:75]\n",
    "\n",
    "    dataset = pd.concat([negative_df, positive_df])\n",
    "\n",
    "    dataset = dataset.rename(columns={\"sentiment\": \"target\"})\n",
    "\n",
    "\n",
    "    dataset = dataset[['text', 'target']]\n",
    "\n",
    "    # print example\n",
    "    print(f\"\\n\\nPrompt example:\\n{dataset['text'][1]}\\n\\n\")\n",
    "\n",
    "    context = dataset['text'].tolist()\n",
    "    total_steps = dataset.shape[0]//batch_size + 1\n",
    "    print(\n",
    "        f\"Total len: {len(context)}. Batchsize: {batch_size}. Total steps: {total_steps}\")\n",
    "\n",
    "    out_text = []\n",
    "\n",
    "    for i in tqdm(range(total_steps)):\n",
    "        tmp_context = context[i * batch_size:(i+1) * batch_size]\n",
    "\n",
    "        tokenizer.pad_token = \"[PAD]\"\n",
    "\n",
    "        tokens = tokenizer(tmp_context, return_tensors='pt',\n",
    "                           padding=True)\n",
    "\n",
    "        output = model(**tokens)\n",
    "        output = torch.nn.functional.softmax(output.logits.float(), dim=-1)\n",
    "        out_text.append(output.detach().numpy())\n",
    "        torch.cuda.empty_cache()\n",
    "\n",
    "    out_text = [item for sublist in out_text for item in sublist]\n",
    "    dataset[\"out_text\"] = out_text\n",
    "    dataset[\"new_out\"] = dataset[\"out_text\"].apply(np.argmax).apply(map_output)\n",
    "\n",
    "    acc = accuracy_score(dataset[\"target\"], dataset[\"new_out\"])\n",
    "    f1_macro = f1_score(dataset[\"target\"], dataset[\"new_out\"], average=\"macro\")\n",
    "    f1_micro = f1_score(dataset[\"target\"], dataset[\"new_out\"], average=\"micro\")\n",
    "    f1_weighted = f1_score(\n",
    "        dataset[\"target\"], dataset[\"new_out\"], average=\"weighted\")\n",
    "\n",
    "    print(f\"Acc: {acc}. F1 macro: {f1_macro}. F1 micro: {f1_micro}. F1 weighted (BloombergGPT): {f1_weighted}. \")\n",
    "\n",
    "    return dataset\n",
    "\n",
    "dataset = test_sentiment140(model, tokenizer)\n",
    "dataset"
   ]
  },
  {
   "cell_type": "code",
   "execution_count": 4,
   "metadata": {},
   "outputs": [
    {
     "data": {
      "text/plain": [
       "'Fuck this economy. I hate aig and their non loan given asses.'"
      ]
     },
     "execution_count": 4,
     "metadata": {},
     "output_type": "execute_result"
    }
   ],
   "source": [
    "dataset[\"text\"].iloc[0]"
   ]
  },
  {
   "cell_type": "code",
   "execution_count": 5,
   "metadata": {},
   "outputs": [],
   "source": [
    "path = '../../results/general/distilbert-base-uncased-finetuned-sst-2-english.csv'"
   ]
  },
  {
   "cell_type": "code",
   "execution_count": 6,
   "metadata": {},
   "outputs": [],
   "source": [
    "dataset.to_csv(path)"
   ]
  },
  {
   "cell_type": "code",
   "execution_count": 7,
   "metadata": {},
   "outputs": [
    {
     "name": "stdout",
     "output_type": "stream",
     "text": [
      "Precision: 0.851, Recall: 0.833, F1: 0.831, Accuracy: 0.833\n"
     ]
    }
   ],
   "source": [
    "import pandas as pd\n",
    "\n",
    "df = pd.read_csv(path, index_col=0)\n",
    "\n",
    "true, pred = df[\"target\"], df[\"new_out\"]\n",
    "\n",
    "\n",
    "import sys\n",
    "sys.path.append('../../')\n",
    "from metrics import metrics\n",
    "\n",
    "metrics(true, pred)"
   ]
  }
 ],
 "metadata": {
  "kernelspec": {
   "display_name": ".env",
   "language": "python",
   "name": "python3"
  },
  "language_info": {
   "codemirror_mode": {
    "name": "ipython",
    "version": 3
   },
   "file_extension": ".py",
   "mimetype": "text/x-python",
   "name": "python",
   "nbconvert_exporter": "python",
   "pygments_lexer": "ipython3",
   "version": "3.11.6"
  }
 },
 "nbformat": 4,
 "nbformat_minor": 2
}
