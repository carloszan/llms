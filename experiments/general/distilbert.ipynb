{
 "cells": [
  {
   "cell_type": "code",
   "execution_count": 1,
   "metadata": {},
   "outputs": [],
   "source": [
    "from transformers import AutoModelForSequenceClassification, AutoTokenizer\n",
    "import torch\n",
    "\n",
    "base_model = \"distilbert-base-uncased-finetuned-sst-2-english\"\n",
    "\n",
    "tokenizer = AutoTokenizer.from_pretrained(base_model)\n",
    "\n",
    "tokenizer = AutoTokenizer.from_pretrained(base_model, device_map=\"auto\")\n",
    "model = AutoModelForSequenceClassification.from_pretrained(base_model, load_in_8bit=True, torch_dtype=torch.float16)\n",
    "\n",
    "model = model.eval()"
   ]
  },
  {
   "cell_type": "code",
   "execution_count": 11,
   "metadata": {},
   "outputs": [
    {
     "data": {
      "text/plain": [
       "tensor(0)"
      ]
     },
     "execution_count": 11,
     "metadata": {},
     "output_type": "execute_result"
    }
   ],
   "source": [
    "tokens = tokenizer([\"Fuck this economy. I hate aig and their non loan given asses\"], return_tensors='pt',\n",
    "                           padding=True)\n",
    "output = model(**tokens)\n",
    "\n",
    "output = torch.nn.functional.softmax(output.logits.float(), dim=-1)\n",
    "output.argmax()"
   ]
  },
  {
   "cell_type": "code",
   "execution_count": 12,
   "metadata": {},
   "outputs": [
    {
     "name": "stdout",
     "output_type": "stream",
     "text": [
      "\n",
      "\n",
      "Prompt example:\n",
      "Reading my kindle2...  Love it... Lee childs is good read.\n",
      "\n",
      "\n",
      "Total len: 100. Batchsize: 8. Total steps: 13\n"
     ]
    },
    {
     "name": "stderr",
     "output_type": "stream",
     "text": [
      "100%|██████████| 13/13 [00:00<00:00, 38.44it/s]"
     ]
    },
    {
     "name": "stdout",
     "output_type": "stream",
     "text": [
      "Acc: 0.86. F1 macro: 0.8590982286634461. F1 micro: 0.8599999999999999. F1 weighted (BloombergGPT): 0.859098228663446. \n"
     ]
    },
    {
     "name": "stderr",
     "output_type": "stream",
     "text": [
      "\n"
     ]
    },
    {
     "data": {
      "text/html": [
       "<div>\n",
       "<style scoped>\n",
       "    .dataframe tbody tr th:only-of-type {\n",
       "        vertical-align: middle;\n",
       "    }\n",
       "\n",
       "    .dataframe tbody tr th {\n",
       "        vertical-align: top;\n",
       "    }\n",
       "\n",
       "    .dataframe thead th {\n",
       "        text-align: right;\n",
       "    }\n",
       "</style>\n",
       "<table border=\"1\" class=\"dataframe\">\n",
       "  <thead>\n",
       "    <tr style=\"text-align: right;\">\n",
       "      <th></th>\n",
       "      <th>text</th>\n",
       "      <th>target</th>\n",
       "      <th>out_text</th>\n",
       "      <th>new_out</th>\n",
       "    </tr>\n",
       "  </thead>\n",
       "  <tbody>\n",
       "    <tr>\n",
       "      <th>6</th>\n",
       "      <td>Fuck this economy. I hate aig and their non lo...</td>\n",
       "      <td>0</td>\n",
       "      <td>[0.9989183, 0.0010817152]</td>\n",
       "      <td>0</td>\n",
       "    </tr>\n",
       "    <tr>\n",
       "      <th>11</th>\n",
       "      <td>@Karoli I firmly believe that Obama/Pelosi hav...</td>\n",
       "      <td>0</td>\n",
       "      <td>[0.94509614, 0.054903854]</td>\n",
       "      <td>0</td>\n",
       "    </tr>\n",
       "    <tr>\n",
       "      <th>14</th>\n",
       "      <td>dear nike, stop with the flywire. that shit is...</td>\n",
       "      <td>0</td>\n",
       "      <td>[0.9997305, 0.00026947915]</td>\n",
       "      <td>0</td>\n",
       "    </tr>\n",
       "    <tr>\n",
       "      <th>16</th>\n",
       "      <td>I was talking to this guy last night and he wa...</td>\n",
       "      <td>0</td>\n",
       "      <td>[0.2018919, 0.7981081]</td>\n",
       "      <td>4</td>\n",
       "    </tr>\n",
       "    <tr>\n",
       "      <th>18</th>\n",
       "      <td>@ludajuice Lebron is a Beast, but I'm still ch...</td>\n",
       "      <td>0</td>\n",
       "      <td>[0.0021157034, 0.99788433]</td>\n",
       "      <td>4</td>\n",
       "    </tr>\n",
       "    <tr>\n",
       "      <th>...</th>\n",
       "      <td>...</td>\n",
       "      <td>...</td>\n",
       "      <td>...</td>\n",
       "      <td>...</td>\n",
       "    </tr>\n",
       "    <tr>\n",
       "      <th>106</th>\n",
       "      <td>@psychemedia I really liked @kswedberg's \"Lear...</td>\n",
       "      <td>4</td>\n",
       "      <td>[0.0016613906, 0.9983386]</td>\n",
       "      <td>4</td>\n",
       "    </tr>\n",
       "    <tr>\n",
       "      <th>108</th>\n",
       "      <td>Very Interesting Ad from Adobe by Goodby, Silv...</td>\n",
       "      <td>4</td>\n",
       "      <td>[0.0053536464, 0.9946464]</td>\n",
       "      <td>4</td>\n",
       "    </tr>\n",
       "    <tr>\n",
       "      <th>109</th>\n",
       "      <td>Goodby Silverstein agency new site! http://www...</td>\n",
       "      <td>4</td>\n",
       "      <td>[0.0006838353, 0.9993162]</td>\n",
       "      <td>4</td>\n",
       "    </tr>\n",
       "    <tr>\n",
       "      <th>110</th>\n",
       "      <td>RT @designplay Goodby, Silverstein's new site:...</td>\n",
       "      <td>4</td>\n",
       "      <td>[0.0002173914, 0.9997826]</td>\n",
       "      <td>4</td>\n",
       "    </tr>\n",
       "    <tr>\n",
       "      <th>111</th>\n",
       "      <td>The ever amazing Psyop and Goodby Silverstein ...</td>\n",
       "      <td>4</td>\n",
       "      <td>[0.0014837189, 0.99851626]</td>\n",
       "      <td>4</td>\n",
       "    </tr>\n",
       "  </tbody>\n",
       "</table>\n",
       "<p>100 rows × 4 columns</p>\n",
       "</div>"
      ],
      "text/plain": [
       "                                                  text  target  \\\n",
       "6    Fuck this economy. I hate aig and their non lo...       0   \n",
       "11   @Karoli I firmly believe that Obama/Pelosi hav...       0   \n",
       "14   dear nike, stop with the flywire. that shit is...       0   \n",
       "16   I was talking to this guy last night and he wa...       0   \n",
       "18   @ludajuice Lebron is a Beast, but I'm still ch...       0   \n",
       "..                                                 ...     ...   \n",
       "106  @psychemedia I really liked @kswedberg's \"Lear...       4   \n",
       "108  Very Interesting Ad from Adobe by Goodby, Silv...       4   \n",
       "109  Goodby Silverstein agency new site! http://www...       4   \n",
       "110  RT @designplay Goodby, Silverstein's new site:...       4   \n",
       "111  The ever amazing Psyop and Goodby Silverstein ...       4   \n",
       "\n",
       "                       out_text  new_out  \n",
       "6     [0.9989183, 0.0010817152]        0  \n",
       "11    [0.94509614, 0.054903854]        0  \n",
       "14   [0.9997305, 0.00026947915]        0  \n",
       "16       [0.2018919, 0.7981081]        4  \n",
       "18   [0.0021157034, 0.99788433]        4  \n",
       "..                          ...      ...  \n",
       "106   [0.0016613906, 0.9983386]        4  \n",
       "108   [0.0053536464, 0.9946464]        4  \n",
       "109   [0.0006838353, 0.9993162]        4  \n",
       "110   [0.0002173914, 0.9997826]        4  \n",
       "111  [0.0014837189, 0.99851626]        4  \n",
       "\n",
       "[100 rows x 4 columns]"
      ]
     },
     "execution_count": 12,
     "metadata": {},
     "output_type": "execute_result"
    }
   ],
   "source": [
    "from sklearn.metrics import accuracy_score, f1_score\n",
    "from datasets import load_dataset\n",
    "from tqdm import tqdm\n",
    "import torch\n",
    "import numpy as np\n",
    "import pandas as pd\n",
    "\n",
    "def map_output(arg):\n",
    "  # Stars 0 and 1 => Negative (which is 0)\n",
    "  # Stars 2 => Neutral (which is 2)\n",
    "  # Stars 3 and 4 => Positive (which is 4)\n",
    "  dic = {0: 0, 1: 4}\n",
    "  return dic[arg]\n",
    "\n",
    "\n",
    "def test_sentiment140(model, tokenizer, batch_size=8):\n",
    "    dataset = load_dataset('sentiment140')\n",
    "    dataset = dataset[\"test\"]\n",
    "    dataset = dataset.to_pandas()\n",
    "\n",
    "    negative_df = dataset.query(\"sentiment == 0\")[:50]\n",
    "    positive_df = dataset.query(\"sentiment == 4\")[:50]\n",
    "\n",
    "    dataset = pd.concat([negative_df, positive_df])\n",
    "\n",
    "    dataset = dataset.rename(columns={\"sentiment\": \"target\"})\n",
    "\n",
    "\n",
    "    dataset = dataset[['text', 'target']]\n",
    "\n",
    "    # print example\n",
    "    print(f\"\\n\\nPrompt example:\\n{dataset['text'][1]}\\n\\n\")\n",
    "\n",
    "    context = dataset['text'].tolist()\n",
    "    total_steps = dataset.shape[0]//batch_size + 1\n",
    "    print(\n",
    "        f\"Total len: {len(context)}. Batchsize: {batch_size}. Total steps: {total_steps}\")\n",
    "\n",
    "    out_text = []\n",
    "\n",
    "    for i in tqdm(range(total_steps)):\n",
    "        tmp_context = context[i * batch_size:(i+1) * batch_size]\n",
    "\n",
    "        tokenizer.pad_token = \"[PAD]\"\n",
    "\n",
    "        tokens = tokenizer(tmp_context, return_tensors='pt',\n",
    "                           padding=True)\n",
    "\n",
    "        output = model(**tokens)\n",
    "        output = torch.nn.functional.softmax(output.logits.float(), dim=-1)\n",
    "        out_text.append(output.detach().numpy())\n",
    "        torch.cuda.empty_cache()\n",
    "\n",
    "    out_text = [item for sublist in out_text for item in sublist]\n",
    "    dataset[\"out_text\"] = out_text\n",
    "    dataset[\"new_out\"] = dataset[\"out_text\"].apply(np.argmax).apply(map_output)\n",
    "\n",
    "    acc = accuracy_score(dataset[\"target\"], dataset[\"new_out\"])\n",
    "    f1_macro = f1_score(dataset[\"target\"], dataset[\"new_out\"], average=\"macro\")\n",
    "    f1_micro = f1_score(dataset[\"target\"], dataset[\"new_out\"], average=\"micro\")\n",
    "    f1_weighted = f1_score(\n",
    "        dataset[\"target\"], dataset[\"new_out\"], average=\"weighted\")\n",
    "\n",
    "    print(f\"Acc: {acc}. F1 macro: {f1_macro}. F1 micro: {f1_micro}. F1 weighted (BloombergGPT): {f1_weighted}. \")\n",
    "\n",
    "    return dataset\n",
    "\n",
    "dataset = test_sentiment140(model, tokenizer)\n",
    "dataset"
   ]
  },
  {
   "cell_type": "code",
   "execution_count": 13,
   "metadata": {},
   "outputs": [
    {
     "data": {
      "text/plain": [
       "'Fuck this economy. I hate aig and their non loan given asses.'"
      ]
     },
     "execution_count": 13,
     "metadata": {},
     "output_type": "execute_result"
    }
   ],
   "source": [
    "dataset[\"text\"].iloc[0]"
   ]
  },
  {
   "cell_type": "code",
   "execution_count": 14,
   "metadata": {},
   "outputs": [],
   "source": [
    "path = '../../results/general/distilbert.csv'"
   ]
  },
  {
   "cell_type": "code",
   "execution_count": 15,
   "metadata": {},
   "outputs": [],
   "source": [
    "dataset.to_csv(path)"
   ]
  },
  {
   "cell_type": "code",
   "execution_count": 16,
   "metadata": {},
   "outputs": [
    {
     "name": "stdout",
     "output_type": "stream",
     "text": [
      "Precision: 0.869, Recall: 0.86, F1: 0.859, Accuracy: 0.86\n"
     ]
    }
   ],
   "source": [
    "import pandas as pd\n",
    "\n",
    "df = pd.read_csv(path, index_col=0)\n",
    "\n",
    "true, pred = df[\"target\"], df[\"new_out\"]\n",
    "\n",
    "\n",
    "import sys\n",
    "sys.path.append('../../')\n",
    "from metrics import metrics\n",
    "\n",
    "metrics(true, pred)"
   ]
  }
 ],
 "metadata": {
  "kernelspec": {
   "display_name": ".env",
   "language": "python",
   "name": "python3"
  },
  "language_info": {
   "codemirror_mode": {
    "name": "ipython",
    "version": 3
   },
   "file_extension": ".py",
   "mimetype": "text/x-python",
   "name": "python",
   "nbconvert_exporter": "python",
   "pygments_lexer": "ipython3",
   "version": "3.11.6"
  }
 },
 "nbformat": 4,
 "nbformat_minor": 2
}
