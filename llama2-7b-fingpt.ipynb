{
 "cells": [
  {
   "cell_type": "code",
   "execution_count": 1,
   "metadata": {},
   "outputs": [
    {
     "name": "stdout",
     "output_type": "stream",
     "text": [
      "Requirement already satisfied: datasets in c:\\users\\carlos\\documents\\git\\llms\\.env\\lib\\site-packages (2.14.6)\n",
      "Requirement already satisfied: evaluate in c:\\users\\carlos\\documents\\git\\llms\\.env\\lib\\site-packages (0.4.1)\n",
      "Requirement already satisfied: transformers[sentencepiece] in c:\\users\\carlos\\documents\\git\\llms\\.env\\lib\\site-packages (4.34.1)\n",
      "Requirement already satisfied: peft in c:\\users\\carlos\\documents\\git\\llms\\.env\\lib\\site-packages (0.5.0)\n",
      "Requirement already satisfied: tqdm in c:\\users\\carlos\\documents\\git\\llms\\.env\\lib\\site-packages (4.66.1)\n",
      "Requirement already satisfied: numpy>=1.17 in c:\\users\\carlos\\documents\\git\\llms\\.env\\lib\\site-packages (from datasets) (1.26.1)\n",
      "Requirement already satisfied: pyarrow>=8.0.0 in c:\\users\\carlos\\documents\\git\\llms\\.env\\lib\\site-packages (from datasets) (13.0.0)\n",
      "Requirement already satisfied: dill<0.3.8,>=0.3.0 in c:\\users\\carlos\\documents\\git\\llms\\.env\\lib\\site-packages (from datasets) (0.3.7)\n",
      "Requirement already satisfied: pandas in c:\\users\\carlos\\documents\\git\\llms\\.env\\lib\\site-packages (from datasets) (2.1.1)\n",
      "Requirement already satisfied: requests>=2.19.0 in c:\\users\\carlos\\documents\\git\\llms\\.env\\lib\\site-packages (from datasets) (2.31.0)\n",
      "Requirement already satisfied: xxhash in c:\\users\\carlos\\documents\\git\\llms\\.env\\lib\\site-packages (from datasets) (3.4.1)\n",
      "Requirement already satisfied: multiprocess in c:\\users\\carlos\\documents\\git\\llms\\.env\\lib\\site-packages (from datasets) (0.70.15)\n",
      "Requirement already satisfied: fsspec[http]<=2023.10.0,>=2023.1.0 in c:\\users\\carlos\\documents\\git\\llms\\.env\\lib\\site-packages (from datasets) (2023.10.0)\n",
      "Requirement already satisfied: aiohttp in c:\\users\\carlos\\documents\\git\\llms\\.env\\lib\\site-packages (from datasets) (3.8.6)\n",
      "Requirement already satisfied: huggingface-hub<1.0.0,>=0.14.0 in c:\\users\\carlos\\documents\\git\\llms\\.env\\lib\\site-packages (from datasets) (0.17.3)\n",
      "Requirement already satisfied: packaging in c:\\users\\carlos\\documents\\git\\llms\\.env\\lib\\site-packages (from datasets) (23.2)\n",
      "Requirement already satisfied: pyyaml>=5.1 in c:\\users\\carlos\\documents\\git\\llms\\.env\\lib\\site-packages (from datasets) (6.0.1)\n",
      "Requirement already satisfied: responses<0.19 in c:\\users\\carlos\\documents\\git\\llms\\.env\\lib\\site-packages (from evaluate) (0.18.0)\n",
      "Requirement already satisfied: filelock in c:\\users\\carlos\\documents\\git\\llms\\.env\\lib\\site-packages (from transformers[sentencepiece]) (3.12.4)\n",
      "Requirement already satisfied: regex!=2019.12.17 in c:\\users\\carlos\\documents\\git\\llms\\.env\\lib\\site-packages (from transformers[sentencepiece]) (2023.10.3)\n",
      "Requirement already satisfied: tokenizers<0.15,>=0.14 in c:\\users\\carlos\\documents\\git\\llms\\.env\\lib\\site-packages (from transformers[sentencepiece]) (0.14.1)\n",
      "Requirement already satisfied: safetensors>=0.3.1 in c:\\users\\carlos\\documents\\git\\llms\\.env\\lib\\site-packages (from transformers[sentencepiece]) (0.4.0)\n",
      "Requirement already satisfied: sentencepiece!=0.1.92,>=0.1.91 in c:\\users\\carlos\\documents\\git\\llms\\.env\\lib\\site-packages (from transformers[sentencepiece]) (0.1.99)\n",
      "Requirement already satisfied: protobuf in c:\\users\\carlos\\documents\\git\\llms\\.env\\lib\\site-packages (from transformers[sentencepiece]) (4.24.4)\n",
      "Requirement already satisfied: psutil in c:\\users\\carlos\\documents\\git\\llms\\.env\\lib\\site-packages (from peft) (5.9.6)\n",
      "Requirement already satisfied: torch>=1.13.0 in c:\\users\\carlos\\documents\\git\\llms\\.env\\lib\\site-packages (from peft) (2.1.0+cu118)\n",
      "Requirement already satisfied: accelerate in c:\\users\\carlos\\documents\\git\\llms\\.env\\lib\\site-packages (from peft) (0.23.0)\n",
      "Requirement already satisfied: colorama in c:\\users\\carlos\\documents\\git\\llms\\.env\\lib\\site-packages (from tqdm) (0.4.6)\n",
      "Requirement already satisfied: attrs>=17.3.0 in c:\\users\\carlos\\documents\\git\\llms\\.env\\lib\\site-packages (from aiohttp->datasets) (23.1.0)\n",
      "Requirement already satisfied: charset-normalizer<4.0,>=2.0 in c:\\users\\carlos\\documents\\git\\llms\\.env\\lib\\site-packages (from aiohttp->datasets) (3.3.1)\n",
      "Requirement already satisfied: multidict<7.0,>=4.5 in c:\\users\\carlos\\documents\\git\\llms\\.env\\lib\\site-packages (from aiohttp->datasets) (6.0.4)\n",
      "Requirement already satisfied: async-timeout<5.0,>=4.0.0a3 in c:\\users\\carlos\\documents\\git\\llms\\.env\\lib\\site-packages (from aiohttp->datasets) (4.0.3)\n",
      "Requirement already satisfied: yarl<2.0,>=1.0 in c:\\users\\carlos\\documents\\git\\llms\\.env\\lib\\site-packages (from aiohttp->datasets) (1.9.2)\n",
      "Requirement already satisfied: frozenlist>=1.1.1 in c:\\users\\carlos\\documents\\git\\llms\\.env\\lib\\site-packages (from aiohttp->datasets) (1.4.0)\n",
      "Requirement already satisfied: aiosignal>=1.1.2 in c:\\users\\carlos\\documents\\git\\llms\\.env\\lib\\site-packages (from aiohttp->datasets) (1.3.1)\n",
      "Requirement already satisfied: typing-extensions>=3.7.4.3 in c:\\users\\carlos\\documents\\git\\llms\\.env\\lib\\site-packages (from huggingface-hub<1.0.0,>=0.14.0->datasets) (4.8.0)\n",
      "Requirement already satisfied: idna<4,>=2.5 in c:\\users\\carlos\\documents\\git\\llms\\.env\\lib\\site-packages (from requests>=2.19.0->datasets) (3.4)\n",
      "Requirement already satisfied: urllib3<3,>=1.21.1 in c:\\users\\carlos\\documents\\git\\llms\\.env\\lib\\site-packages (from requests>=2.19.0->datasets) (2.0.7)\n",
      "Requirement already satisfied: certifi>=2017.4.17 in c:\\users\\carlos\\documents\\git\\llms\\.env\\lib\\site-packages (from requests>=2.19.0->datasets) (2023.7.22)\n",
      "Requirement already satisfied: sympy in c:\\users\\carlos\\documents\\git\\llms\\.env\\lib\\site-packages (from torch>=1.13.0->peft) (1.12)\n",
      "Requirement already satisfied: networkx in c:\\users\\carlos\\documents\\git\\llms\\.env\\lib\\site-packages (from torch>=1.13.0->peft) (3.2)\n",
      "Requirement already satisfied: jinja2 in c:\\users\\carlos\\documents\\git\\llms\\.env\\lib\\site-packages (from torch>=1.13.0->peft) (3.1.2)\n",
      "Requirement already satisfied: python-dateutil>=2.8.2 in c:\\users\\carlos\\documents\\git\\llms\\.env\\lib\\site-packages (from pandas->datasets) (2.8.2)\n",
      "Requirement already satisfied: pytz>=2020.1 in c:\\users\\carlos\\documents\\git\\llms\\.env\\lib\\site-packages (from pandas->datasets) (2023.3.post1)\n",
      "Requirement already satisfied: tzdata>=2022.1 in c:\\users\\carlos\\documents\\git\\llms\\.env\\lib\\site-packages (from pandas->datasets) (2023.3)\n",
      "Requirement already satisfied: six>=1.5 in c:\\users\\carlos\\documents\\git\\llms\\.env\\lib\\site-packages (from python-dateutil>=2.8.2->pandas->datasets) (1.16.0)\n",
      "Requirement already satisfied: MarkupSafe>=2.0 in c:\\users\\carlos\\documents\\git\\llms\\.env\\lib\\site-packages (from jinja2->torch>=1.13.0->peft) (2.1.3)\n",
      "Requirement already satisfied: mpmath>=0.19 in c:\\users\\carlos\\documents\\git\\llms\\.env\\lib\\site-packages (from sympy->torch>=1.13.0->peft) (1.3.0)\n"
     ]
    },
    {
     "name": "stderr",
     "output_type": "stream",
     "text": [
      "\n",
      "[notice] A new release of pip is available: 23.1.2 -> 23.3\n",
      "[notice] To update, run: python.exe -m pip install --upgrade pip\n"
     ]
    },
    {
     "name": "stdout",
     "output_type": "stream",
     "text": [
      "Requirement already satisfied: scikit-learn in c:\\users\\carlos\\documents\\git\\llms\\.env\\lib\\site-packages (1.3.2)\n",
      "Requirement already satisfied: numpy<2.0,>=1.17.3 in c:\\users\\carlos\\documents\\git\\llms\\.env\\lib\\site-packages (from scikit-learn) (1.26.1)\n",
      "Requirement already satisfied: scipy>=1.5.0 in c:\\users\\carlos\\documents\\git\\llms\\.env\\lib\\site-packages (from scikit-learn) (1.11.3)\n",
      "Requirement already satisfied: joblib>=1.1.1 in c:\\users\\carlos\\documents\\git\\llms\\.env\\lib\\site-packages (from scikit-learn) (1.3.2)\n",
      "Requirement already satisfied: threadpoolctl>=2.0.0 in c:\\users\\carlos\\documents\\git\\llms\\.env\\lib\\site-packages (from scikit-learn) (3.2.0)\n"
     ]
    },
    {
     "name": "stderr",
     "output_type": "stream",
     "text": [
      "\n",
      "[notice] A new release of pip is available: 23.1.2 -> 23.3\n",
      "[notice] To update, run: python.exe -m pip install --upgrade pip\n"
     ]
    },
    {
     "name": "stdout",
     "output_type": "stream",
     "text": [
      "Requirement already satisfied: peft in c:\\users\\carlos\\documents\\git\\llms\\.env\\lib\\site-packages (0.5.0)\n",
      "Requirement already satisfied: numpy>=1.17 in c:\\users\\carlos\\documents\\git\\llms\\.env\\lib\\site-packages (from peft) (1.26.1)\n",
      "Requirement already satisfied: packaging>=20.0 in c:\\users\\carlos\\documents\\git\\llms\\.env\\lib\\site-packages (from peft) (23.2)\n",
      "Requirement already satisfied: psutil in c:\\users\\carlos\\documents\\git\\llms\\.env\\lib\\site-packages (from peft) (5.9.6)\n",
      "Requirement already satisfied: pyyaml in c:\\users\\carlos\\documents\\git\\llms\\.env\\lib\\site-packages (from peft) (6.0.1)\n",
      "Requirement already satisfied: torch>=1.13.0 in c:\\users\\carlos\\documents\\git\\llms\\.env\\lib\\site-packages (from peft) (2.1.0+cu118)\n",
      "Requirement already satisfied: transformers in c:\\users\\carlos\\documents\\git\\llms\\.env\\lib\\site-packages (from peft) (4.34.1)\n",
      "Requirement already satisfied: tqdm in c:\\users\\carlos\\documents\\git\\llms\\.env\\lib\\site-packages (from peft) (4.66.1)\n",
      "Requirement already satisfied: accelerate in c:\\users\\carlos\\documents\\git\\llms\\.env\\lib\\site-packages (from peft) (0.23.0)\n",
      "Requirement already satisfied: safetensors in c:\\users\\carlos\\documents\\git\\llms\\.env\\lib\\site-packages (from peft) (0.4.0)\n",
      "Requirement already satisfied: filelock in c:\\users\\carlos\\documents\\git\\llms\\.env\\lib\\site-packages (from torch>=1.13.0->peft) (3.12.4)\n",
      "Requirement already satisfied: typing-extensions in c:\\users\\carlos\\documents\\git\\llms\\.env\\lib\\site-packages (from torch>=1.13.0->peft) (4.8.0)\n",
      "Requirement already satisfied: sympy in c:\\users\\carlos\\documents\\git\\llms\\.env\\lib\\site-packages (from torch>=1.13.0->peft) (1.12)\n",
      "Requirement already satisfied: networkx in c:\\users\\carlos\\documents\\git\\llms\\.env\\lib\\site-packages (from torch>=1.13.0->peft) (3.2)\n",
      "Requirement already satisfied: jinja2 in c:\\users\\carlos\\documents\\git\\llms\\.env\\lib\\site-packages (from torch>=1.13.0->peft) (3.1.2)\n",
      "Requirement already satisfied: fsspec in c:\\users\\carlos\\documents\\git\\llms\\.env\\lib\\site-packages (from torch>=1.13.0->peft) (2023.10.0)\n",
      "Requirement already satisfied: huggingface-hub in c:\\users\\carlos\\documents\\git\\llms\\.env\\lib\\site-packages (from accelerate->peft) (0.17.3)\n",
      "Requirement already satisfied: colorama in c:\\users\\carlos\\documents\\git\\llms\\.env\\lib\\site-packages (from tqdm->peft) (0.4.6)\n",
      "Requirement already satisfied: regex!=2019.12.17 in c:\\users\\carlos\\documents\\git\\llms\\.env\\lib\\site-packages (from transformers->peft) (2023.10.3)\n",
      "Requirement already satisfied: requests in c:\\users\\carlos\\documents\\git\\llms\\.env\\lib\\site-packages (from transformers->peft) (2.31.0)\n",
      "Requirement already satisfied: tokenizers<0.15,>=0.14 in c:\\users\\carlos\\documents\\git\\llms\\.env\\lib\\site-packages (from transformers->peft) (0.14.1)\n",
      "Requirement already satisfied: MarkupSafe>=2.0 in c:\\users\\carlos\\documents\\git\\llms\\.env\\lib\\site-packages (from jinja2->torch>=1.13.0->peft) (2.1.3)\n",
      "Requirement already satisfied: charset-normalizer<4,>=2 in c:\\users\\carlos\\documents\\git\\llms\\.env\\lib\\site-packages (from requests->transformers->peft) (3.3.1)\n",
      "Requirement already satisfied: idna<4,>=2.5 in c:\\users\\carlos\\documents\\git\\llms\\.env\\lib\\site-packages (from requests->transformers->peft) (3.4)\n",
      "Requirement already satisfied: urllib3<3,>=1.21.1 in c:\\users\\carlos\\documents\\git\\llms\\.env\\lib\\site-packages (from requests->transformers->peft) (2.0.7)\n",
      "Requirement already satisfied: certifi>=2017.4.17 in c:\\users\\carlos\\documents\\git\\llms\\.env\\lib\\site-packages (from requests->transformers->peft) (2023.7.22)\n",
      "Requirement already satisfied: mpmath>=0.19 in c:\\users\\carlos\\documents\\git\\llms\\.env\\lib\\site-packages (from sympy->torch>=1.13.0->peft) (1.3.0)\n"
     ]
    },
    {
     "name": "stderr",
     "output_type": "stream",
     "text": [
      "\n",
      "[notice] A new release of pip is available: 23.1.2 -> 23.3\n",
      "[notice] To update, run: python.exe -m pip install --upgrade pip\n"
     ]
    }
   ],
   "source": [
    "!pip install datasets evaluate transformers[sentencepiece] peft tqdm \n",
    "!pip install scikit-learn\n",
    "\n",
    "!pip install --upgrade peft"
   ]
  },
  {
   "cell_type": "code",
   "execution_count": 2,
   "metadata": {},
   "outputs": [
    {
     "name": "stderr",
     "output_type": "stream",
     "text": [
      "c:\\Users\\Carlos\\Documents\\git\\llms\\.env\\Lib\\site-packages\\tqdm\\auto.py:21: TqdmWarning: IProgress not found. Please update jupyter and ipywidgets. See https://ipywidgets.readthedocs.io/en/stable/user_install.html\n",
      "  from .autonotebook import tqdm as notebook_tqdm\n",
      "Loading checkpoint shards: 100%|██████████| 2/2 [00:13<00:00,  6.91s/it]\n"
     ]
    }
   ],
   "source": [
    "from peft import PeftModel\n",
    "from transformers import AutoModelForCausalLM, AutoTokenizer\n",
    "\n",
    "device = \"cuda\"\n",
    "base_model = \"meta-llama/Llama-2-7b-hf\"\n",
    "peft_model = \"FinGPT/fingpt-mt_llama2-7b_lora\"\n",
    "\n",
    "tokenizer = AutoTokenizer.from_pretrained(base_model)\n",
    "model = AutoModelForCausalLM.from_pretrained(base_model, device_map=device)\n",
    "\n",
    "model = PeftModel.from_pretrained(model, peft_model)\n",
    "\n",
    "model = model.eval()"
   ]
  },
  {
   "cell_type": "code",
   "execution_count": 3,
   "metadata": {},
   "outputs": [
    {
     "name": "stdout",
     "output_type": "stream",
     "text": [
      "\n",
      "\n",
      "Prompt example:\n",
      "Instruction: What is the sentiment of this news? Please choose an answer from {negative/neutral/positive}.\n",
      "Input: @gakrum nice chart shows distinctive down channel not a dip.. where do you see the bottom? $SPY ..$150? ..$130?\n",
      "Answer: \n",
      "\n",
      "\n",
      "Total len: 150. Batchsize: 8. Total steps: 19\n"
     ]
    },
    {
     "name": "stderr",
     "output_type": "stream",
     "text": [
      "100%|██████████| 19/19 [05:09<00:00, 16.27s/it]"
     ]
    },
    {
     "name": "stdout",
     "output_type": "stream",
     "text": [
      "Acc: 0.44. F1 macro: 0.3636991028295376. F1 micro: 0.44. F1 weighted (BloombergGPT): 0.36369910282953766. \n"
     ]
    },
    {
     "name": "stderr",
     "output_type": "stream",
     "text": [
      "\n"
     ]
    }
   ],
   "source": [
    "from fiqa import test_fiqa\n",
    "\n",
    "dataset = test_fiqa(model, tokenizer)"
   ]
  },
  {
   "cell_type": "code",
   "execution_count": 4,
   "metadata": {},
   "outputs": [],
   "source": [
    "dataset.to_csv('results/llama2-7b-fingpt.csv')"
   ]
  }
 ],
 "metadata": {
  "kernelspec": {
   "display_name": ".env",
   "language": "python",
   "name": "python3"
  },
  "language_info": {
   "codemirror_mode": {
    "name": "ipython",
    "version": 3
   },
   "file_extension": ".py",
   "mimetype": "text/x-python",
   "name": "python",
   "nbconvert_exporter": "python",
   "pygments_lexer": "ipython3",
   "version": "3.11.4"
  }
 },
 "nbformat": 4,
 "nbformat_minor": 2
}
