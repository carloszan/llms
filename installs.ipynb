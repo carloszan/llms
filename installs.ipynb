{
 "cells": [
  {
   "cell_type": "code",
   "execution_count": null,
   "metadata": {},
   "outputs": [],
   "source": [
    "!pip install datasets evaluate transformers[sentencepiece] peft tqdm \n",
    "!pip install scikit-learn\n",
    "\n",
    "!pip install --upgrade peft\n",
    "!pip install bitsandbytes"
   ]
  }
 ],
 "metadata": {
  "language_info": {
   "name": "python"
  }
 },
 "nbformat": 4,
 "nbformat_minor": 2
}
